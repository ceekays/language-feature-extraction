{
 "cells": [
  {
   "cell_type": "markdown",
   "id": "962e4dd9-5264-44b8-8a79-cc90dc67921f",
   "metadata": {},
   "source": [
    "# Text Feature Extraction Tool"
   ]
  },
  {
   "cell_type": "markdown",
   "id": "fcee474d-8120-4659-9472-49f95af5020f",
   "metadata": {},
   "source": [
    "This is a toy project for extracting linguistic features from the random text. This is a simplistic model, but it gives a lot of insights into the sample text."
   ]
  },
  {
   "cell_type": "code",
   "execution_count": 1,
   "id": "77a330a7-7e7b-4d6f-8cd1-b80ad9499597",
   "metadata": {},
   "outputs": [],
   "source": [
    "import nltk\n",
    "from text_classifier import TextClassifier\n",
    "import pandas as pd"
   ]
  },
  {
   "cell_type": "code",
   "execution_count": 2,
   "id": "6eb453f6-f5e1-4b91-b35e-01e5ebb9e32e",
   "metadata": {},
   "outputs": [],
   "source": [
    "def extract_features_from_text(sentences):\n",
    "    \"\"\"\n",
    "    Extracts features from text from a given list\n",
    "\n",
    "    :param\n",
    "        sentences: a list of text to analyze\n",
    "    :return:\n",
    "        A data frame of features\n",
    "    \"\"\"\n",
    "    features = {\n",
    "        \"adj_and_adv_frequency\": [],\n",
    "        \"has_subordinate_words\": [],\n",
    "        \"modal_frequency\": [],\n",
    "        \"peculiar_words\": [],\n",
    "        \"plural_usage\": [],\n",
    "        \"text_reading_ease\": [],\n",
    "        'article_density': [],\n",
    "        'preposition_density': [],\n",
    "        'type_token_ratio': [],\n",
    "    }\n",
    "\n",
    "    for sentence in sentences:\n",
    "        cls = TextClassifier(sentence)\n",
    "        features[\"adj_and_adv_frequency\"].append(cls.calculate_lexical_density_by_tags({\"JJ\", \"RB\"}))\n",
    "        features[\"has_subordinate_words\"].append(cls.has_peculiar_expression(\"\\b(But|So|Because)\"))\n",
    "        features[\"modal_frequency\"].append(cls.calculate_lexical_density_by_tags({'MD'}))\n",
    "        features[\"peculiar_words\"].append(cls.calculate_words_frequency({\"good\"}))\n",
    "        features[\"plural_usage\"].append(cls.calculate_lexical_density_by_tags({\"NNS\"}))\n",
    "        features[\"text_reading_ease\"].append(cls.calculate_sentence_reading_ease())\n",
    "        features['article_density'].append(cls.calculate_words_frequency({\"a\", \"an\", \"the\"}))\n",
    "        features['preposition_density'].append(cls.calculate_lexical_density_by_tags({\"IN\"}))\n",
    "        features['type_token_ratio'].append(cls.calculate_type_token_ratio())\n",
    "\n",
    "    return pd.DataFrame(features)"
   ]
  },
  {
   "cell_type": "code",
   "execution_count": 3,
   "id": "23f3568f-f7b6-4b52-9740-7993ec47aa18",
   "metadata": {},
   "outputs": [
    {
     "data": {
      "text/html": [
       "<div>\n",
       "<style scoped>\n",
       "    .dataframe tbody tr th:only-of-type {\n",
       "        vertical-align: middle;\n",
       "    }\n",
       "\n",
       "    .dataframe tbody tr th {\n",
       "        vertical-align: top;\n",
       "    }\n",
       "\n",
       "    .dataframe thead th {\n",
       "        text-align: right;\n",
       "    }\n",
       "</style>\n",
       "<table border=\"1\" class=\"dataframe\">\n",
       "  <thead>\n",
       "    <tr style=\"text-align: right;\">\n",
       "      <th></th>\n",
       "      <th>adj_and_adv_frequency</th>\n",
       "      <th>has_subordinate_words</th>\n",
       "      <th>modal_frequency</th>\n",
       "      <th>peculiar_words</th>\n",
       "      <th>plural_usage</th>\n",
       "      <th>text_reading_ease</th>\n",
       "      <th>article_density</th>\n",
       "      <th>preposition_density</th>\n",
       "      <th>type_token_ratio</th>\n",
       "    </tr>\n",
       "  </thead>\n",
       "  <tbody>\n",
       "    <tr>\n",
       "      <th>0</th>\n",
       "      <td>12.000</td>\n",
       "      <td>False</td>\n",
       "      <td>0.000</td>\n",
       "      <td>0.0</td>\n",
       "      <td>6.000</td>\n",
       "      <td>137.755000</td>\n",
       "      <td>90.000</td>\n",
       "      <td>10.000</td>\n",
       "      <td>0.660000</td>\n",
       "    </tr>\n",
       "    <tr>\n",
       "      <th>1</th>\n",
       "      <td>12.632</td>\n",
       "      <td>False</td>\n",
       "      <td>2.105</td>\n",
       "      <td>0.0</td>\n",
       "      <td>4.211</td>\n",
       "      <td>152.765991</td>\n",
       "      <td>63.158</td>\n",
       "      <td>12.632</td>\n",
       "      <td>0.621053</td>\n",
       "    </tr>\n",
       "    <tr>\n",
       "      <th>2</th>\n",
       "      <td>10.828</td>\n",
       "      <td>False</td>\n",
       "      <td>0.637</td>\n",
       "      <td>0.0</td>\n",
       "      <td>3.822</td>\n",
       "      <td>205.209093</td>\n",
       "      <td>63.694</td>\n",
       "      <td>13.376</td>\n",
       "      <td>0.573248</td>\n",
       "    </tr>\n",
       "  </tbody>\n",
       "</table>\n",
       "</div>"
      ],
      "text/plain": [
       "   adj_and_adv_frequency  has_subordinate_words  modal_frequency  \\\n",
       "0                 12.000                  False            0.000   \n",
       "1                 12.632                  False            2.105   \n",
       "2                 10.828                  False            0.637   \n",
       "\n",
       "   peculiar_words  plural_usage  text_reading_ease  article_density  \\\n",
       "0             0.0         6.000         137.755000           90.000   \n",
       "1             0.0         4.211         152.765991           63.158   \n",
       "2             0.0         3.822         205.209093           63.694   \n",
       "\n",
       "   preposition_density  type_token_ratio  \n",
       "0               10.000          0.660000  \n",
       "1               12.632          0.621053  \n",
       "2               13.376          0.573248  "
      ]
     },
     "execution_count": 3,
     "metadata": {},
     "output_type": "execute_result"
    }
   ],
   "source": [
    "sents = [\n",
    "    \"Lorem Ipsum is simply dummy text of the printing and typesetting industry. Lorem Ipsum has been the industry's standard dummy text ever since the 1500s, when an unknown printer took a galley of type and scrambled it to make a type specimen book. It has survived not only five centuries, but also the leap into electronic typesetting, remaining essentially unchanged. It was popularised in the 1960s with the release of Letraset sheets containing Lorem Ipsum passages, and more recently with desktop publishing software like Aldus PageMaker including versions of Lorem Ipsum.\",\n",
    "    \"It is a long established fact that a reader will be distracted by the readable content of a page when looking at its layout. The point of using Lorem Ipsum is that it has a more-or-less normal distribution of letters, as opposed to using 'Content here, content here', making it look like readable English. Many desktop publishing packages and web page editors now use Lorem Ipsum as their default model text, and a search for 'lorem ipsum' will uncover many web sites still in their infancy.\",\n",
    "    \"Mohandas Karamchand Gandhi has always been a very prominent figure in Indian history. From his unbeatable spirit to inspiring courage, from various controversies to his life as the father of the nation, Gandhi has always been an interesting, inspiring and impressive personality to read about. If you want to know all about Gandhi and his journey, you cannot miss out on reading 'My Experiments with the Truth', his autobiography that covers his life from early childhood till 1921. The introduction mentions how Gandhi resumed writing at the insistence of a fellow prisoner at Yerwada Central jail. The autobiography was written as weekly journals and then compiled and published as a book. From his childhood memories, his experiments with eating meat, smoking, drinking and stealing to the demise of his father, the book captures many unknown instances of Gandhi's life.\"\n",
    "]\n",
    "\n",
    "extract_features_from_text(sents)\n"
   ]
  },
  {
   "cell_type": "code",
   "execution_count": null,
   "id": "3a88710c-b274-425b-b23b-61cc4983a778",
   "metadata": {},
   "outputs": [],
   "source": []
  }
 ],
 "metadata": {
  "kernelspec": {
   "display_name": "Python 3 (ipykernel)",
   "language": "python",
   "name": "python3"
  },
  "language_info": {
   "codemirror_mode": {
    "name": "ipython",
    "version": 3
   },
   "file_extension": ".py",
   "mimetype": "text/x-python",
   "name": "python",
   "nbconvert_exporter": "python",
   "pygments_lexer": "ipython3",
   "version": "3.7.10"
  }
 },
 "nbformat": 4,
 "nbformat_minor": 5
}
