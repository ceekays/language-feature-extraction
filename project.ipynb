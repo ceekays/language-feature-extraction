{
 "cells": [
  {
   "cell_type": "markdown",
   "id": "962e4dd9-5264-44b8-8a79-cc90dc67921f",
   "metadata": {},
   "source": [
    "# Text Feature Extraction Tool"
   ]
  },
  {
   "cell_type": "markdown",
   "id": "fcee474d-8120-4659-9472-49f95af5020f",
   "metadata": {},
   "source": [
    "This is a toy project for extracting linguistic features from the random text. This is a simplistic model, but it gives a lot of insights into the sample text."
   ]
  },
  {
   "cell_type": "code",
   "execution_count": 1,
   "id": "77a330a7-7e7b-4d6f-8cd1-b80ad9499597",
   "metadata": {},
   "outputs": [],
   "source": [
    "from bs4 import BeautifulSoup\n",
    "from bs4.element import NavigableString\n",
    "from text_classifier import TextClassifier\n",
    "from urllib.request import Request, urlopen\n",
    "\n",
    "import pandas as pd"
   ]
  },
  {
   "cell_type": "code",
   "execution_count": 2,
   "id": "6eb453f6-f5e1-4b91-b35e-01e5ebb9e32e",
   "metadata": {},
   "outputs": [],
   "source": [
    "def extract_features_from_text(sentences):\n",
    "    \"\"\"\n",
    "    Extracts features from text from a given list\n",
    "\n",
    "    :param\n",
    "        sentences: a list of text to analyze\n",
    "    :return:\n",
    "        A data frame of features\n",
    "    \"\"\"\n",
    "    features = {\n",
    "        \"adj_and_adv_frequency\": [],\n",
    "        \"has_subordinate_words\": [],\n",
    "        \"modal_frequency\": [],\n",
    "        \"peculiar_words\": [],\n",
    "        \"plural_usage\": [],\n",
    "        \"text_reading_ease\": [],\n",
    "        'article_density': [],\n",
    "        'preposition_density': [],\n",
    "        'type_token_ratio': [],\n",
    "    }\n",
    "\n",
    "    for sentence in sentences:\n",
    "        cls = TextClassifier(sentence)\n",
    "        features[\"adj_and_adv_frequency\"].append(cls.calculate_lexical_density_by_tags({\"JJ\", \"RB\"}))\n",
    "        features[\"has_subordinate_words\"].append(cls.has_peculiar_expression(\"\\b(But|So|Because)\"))\n",
    "        features[\"modal_frequency\"].append(cls.calculate_lexical_density_by_tags({'MD'}))\n",
    "        features[\"peculiar_words\"].append(cls.calculate_words_frequency({\"good\"}))\n",
    "        features[\"plural_usage\"].append(cls.calculate_lexical_density_by_tags({\"NNS\"}))\n",
    "        features[\"text_reading_ease\"].append(cls.calculate_sentence_reading_ease())\n",
    "        features['article_density'].append(cls.calculate_words_frequency({\"a\", \"an\", \"the\"}))\n",
    "        features['preposition_density'].append(cls.calculate_lexical_density_by_tags({\"IN\"}))\n",
    "        features['type_token_ratio'].append(cls.calculate_type_token_ratio())\n",
    "\n",
    "    return pd.DataFrame(features)"
   ]
  },
  {
   "cell_type": "code",
   "execution_count": 3,
   "id": "5b4423d3-3ca2-4325-b1e7-23c9cf148847",
   "metadata": {},
   "outputs": [],
   "source": [
    "def extract_text_from_webpage(sites):\n",
    "    \"\"\"\n",
    "    Scraps text from Nyasatimes sites\n",
    "\n",
    "    :param\n",
    "        sites: a list of webpages to scrap\n",
    "    \"\"\"\n",
    "    news = []\n",
    "\n",
    "    for site in sites:\n",
    "        html = BeautifulSoup(urlopen(Request(site, headers={'User-Agent': 'Mozilla/5.0'})))\n",
    "        paragraphs = []\n",
    "        for p_tag in html.find_all(\"p\"):\n",
    "            if p_tag.parent[\"class\"][0] == \"nyasa-content\":\n",
    "                for element in p_tag.contents:\n",
    "                    if isinstance(element, NavigableString):\n",
    "                        paragraphs.append(element)\n",
    "        news.append(\" \".join(paragraphs))\n",
    "\n",
    "    return list(filter(None, news))"
   ]
  },
  {
   "cell_type": "code",
   "execution_count": null,
   "id": "23f3568f-f7b6-4b52-9740-7993ec47aa18",
   "metadata": {},
   "outputs": [],
   "source": []
  }
 ],
 "metadata": {
  "kernelspec": {
   "display_name": "Python 3 (ipykernel)",
   "language": "python",
   "name": "python3"
  },
  "language_info": {
   "codemirror_mode": {
    "name": "ipython",
    "version": 3
   },
   "file_extension": ".py",
   "mimetype": "text/x-python",
   "name": "python",
   "nbconvert_exporter": "python",
   "pygments_lexer": "ipython3",
   "version": "3.7.10"
  }
 },
 "nbformat": 4,
 "nbformat_minor": 5
}
