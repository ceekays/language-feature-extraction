{
 "cells": [
  {
   "cell_type": "markdown",
   "id": "962e4dd9-5264-44b8-8a79-cc90dc67921f",
   "metadata": {},
   "source": [
    "# Text Feature Extraction Tool"
   ]
  },
  {
   "cell_type": "markdown",
   "id": "fcee474d-8120-4659-9472-49f95af5020f",
   "metadata": {},
   "source": [
    "This is a toy project for extracting linguistic features from random text."
   ]
  },
  {
   "cell_type": "code",
   "execution_count": null,
   "id": "77a330a7-7e7b-4d6f-8cd1-b80ad9499597",
   "metadata": {},
   "outputs": [],
   "source": []
  }
 ],
 "metadata": {
  "kernelspec": {
   "display_name": "Python 3 (ipykernel)",
   "language": "python",
   "name": "python3"
  },
  "language_info": {
   "codemirror_mode": {
    "name": "ipython",
    "version": 3
   },
   "file_extension": ".py",
   "mimetype": "text/x-python",
   "name": "python",
   "nbconvert_exporter": "python",
   "pygments_lexer": "ipython3",
   "version": "3.7.10"
  }
 },
 "nbformat": 4,
 "nbformat_minor": 5
}
